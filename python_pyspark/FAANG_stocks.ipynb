{
 "cells": [
  {
   "cell_type": "code",
   "execution_count": 1,
   "id": "35351292",
   "metadata": {},
   "outputs": [],
   "source": [
    "from pyspark.sql import SparkSession\n",
    "import pyspark.sql.functions as F\n",
    "from pyspark.sql.functions import *\n",
    "import datetime\n",
    "spark = SparkSession.builder.getOrCreate()"
   ]
  },
  {
   "cell_type": "code",
   "execution_count": 2,
   "id": "08b4cb86",
   "metadata": {},
   "outputs": [],
   "source": [
    "spark \\\n",
    ".read \\\n",
    ".option('header',True)\\\n",
    ".option('inferSchema', True)\\\n",
    ".csv(f'/home/jovyan/FAANG_stocks_covid19/faang_stocks_pandemic_data.csv') \\\n",
    ".createOrReplaceTempView('FAANG_stocks')"
   ]
  },
  {
   "cell_type": "code",
   "execution_count": 3,
   "id": "9286f6b1",
   "metadata": {},
   "outputs": [
    {
     "data": {
      "text/html": [
       "<div>\n",
       "<style scoped>\n",
       "    .dataframe tbody tr th:only-of-type {\n",
       "        vertical-align: middle;\n",
       "    }\n",
       "\n",
       "    .dataframe tbody tr th {\n",
       "        vertical-align: top;\n",
       "    }\n",
       "\n",
       "    .dataframe thead th {\n",
       "        text-align: right;\n",
       "    }\n",
       "</style>\n",
       "<table border=\"1\" class=\"dataframe\">\n",
       "  <thead>\n",
       "    <tr style=\"text-align: right;\">\n",
       "      <th></th>\n",
       "      <th>_c0</th>\n",
       "      <th>Date</th>\n",
       "      <th>High</th>\n",
       "      <th>Low</th>\n",
       "      <th>Open</th>\n",
       "      <th>Close</th>\n",
       "      <th>Volume</th>\n",
       "      <th>Adj Close</th>\n",
       "      <th>Name</th>\n",
       "    </tr>\n",
       "  </thead>\n",
       "  <tbody>\n",
       "    <tr>\n",
       "      <th>0</th>\n",
       "      <td>683</td>\n",
       "      <td>2020-01-02</td>\n",
       "      <td>209.789993</td>\n",
       "      <td>206.270004</td>\n",
       "      <td>206.750000</td>\n",
       "      <td>209.779999</td>\n",
       "      <td>12077100.0</td>\n",
       "      <td>209.779999</td>\n",
       "      <td>Facebook</td>\n",
       "    </tr>\n",
       "    <tr>\n",
       "      <th>1</th>\n",
       "      <td>684</td>\n",
       "      <td>2020-01-03</td>\n",
       "      <td>210.399994</td>\n",
       "      <td>206.949997</td>\n",
       "      <td>207.210007</td>\n",
       "      <td>208.669998</td>\n",
       "      <td>11188400.0</td>\n",
       "      <td>208.669998</td>\n",
       "      <td>Facebook</td>\n",
       "    </tr>\n",
       "    <tr>\n",
       "      <th>2</th>\n",
       "      <td>685</td>\n",
       "      <td>2020-01-06</td>\n",
       "      <td>212.779999</td>\n",
       "      <td>206.520004</td>\n",
       "      <td>206.699997</td>\n",
       "      <td>212.600006</td>\n",
       "      <td>17058900.0</td>\n",
       "      <td>212.600006</td>\n",
       "      <td>Facebook</td>\n",
       "    </tr>\n",
       "    <tr>\n",
       "      <th>3</th>\n",
       "      <td>686</td>\n",
       "      <td>2020-01-07</td>\n",
       "      <td>214.580002</td>\n",
       "      <td>211.750000</td>\n",
       "      <td>212.820007</td>\n",
       "      <td>213.059998</td>\n",
       "      <td>14912400.0</td>\n",
       "      <td>213.059998</td>\n",
       "      <td>Facebook</td>\n",
       "    </tr>\n",
       "    <tr>\n",
       "      <th>4</th>\n",
       "      <td>687</td>\n",
       "      <td>2020-01-08</td>\n",
       "      <td>216.240005</td>\n",
       "      <td>212.610001</td>\n",
       "      <td>213.000000</td>\n",
       "      <td>215.220001</td>\n",
       "      <td>13475000.0</td>\n",
       "      <td>215.220001</td>\n",
       "      <td>Facebook</td>\n",
       "    </tr>\n",
       "    <tr>\n",
       "      <th>...</th>\n",
       "      <td>...</td>\n",
       "      <td>...</td>\n",
       "      <td>...</td>\n",
       "      <td>...</td>\n",
       "      <td>...</td>\n",
       "      <td>...</td>\n",
       "      <td>...</td>\n",
       "      <td>...</td>\n",
       "      <td>...</td>\n",
       "    </tr>\n",
       "    <tr>\n",
       "      <th>2835</th>\n",
       "      <td>1246</td>\n",
       "      <td>2022-03-28</td>\n",
       "      <td>2840.050049</td>\n",
       "      <td>2796.229980</td>\n",
       "      <td>2818.010010</td>\n",
       "      <td>2829.110107</td>\n",
       "      <td>1752500.0</td>\n",
       "      <td>2829.110107</td>\n",
       "      <td>Google</td>\n",
       "    </tr>\n",
       "    <tr>\n",
       "      <th>2836</th>\n",
       "      <td>1247</td>\n",
       "      <td>2022-03-29</td>\n",
       "      <td>2875.870117</td>\n",
       "      <td>2840.770020</td>\n",
       "      <td>2852.949951</td>\n",
       "      <td>2850.110107</td>\n",
       "      <td>1715900.0</td>\n",
       "      <td>2850.110107</td>\n",
       "      <td>Google</td>\n",
       "    </tr>\n",
       "    <tr>\n",
       "      <th>2837</th>\n",
       "      <td>1248</td>\n",
       "      <td>2022-03-30</td>\n",
       "      <td>2854.409912</td>\n",
       "      <td>2832.000000</td>\n",
       "      <td>2849.199951</td>\n",
       "      <td>2838.770020</td>\n",
       "      <td>994200.0</td>\n",
       "      <td>2838.770020</td>\n",
       "      <td>Google</td>\n",
       "    </tr>\n",
       "    <tr>\n",
       "      <th>2838</th>\n",
       "      <td>1249</td>\n",
       "      <td>2022-03-31</td>\n",
       "      <td>2842.159912</td>\n",
       "      <td>2780.489990</td>\n",
       "      <td>2841.060059</td>\n",
       "      <td>2781.350098</td>\n",
       "      <td>1876200.0</td>\n",
       "      <td>2781.350098</td>\n",
       "      <td>Google</td>\n",
       "    </tr>\n",
       "    <tr>\n",
       "      <th>2839</th>\n",
       "      <td>1250</td>\n",
       "      <td>2022-04-01</td>\n",
       "      <td>2809.419922</td>\n",
       "      <td>2766.149902</td>\n",
       "      <td>2790.000000</td>\n",
       "      <td>2803.010010</td>\n",
       "      <td>1296700.0</td>\n",
       "      <td>2803.010010</td>\n",
       "      <td>Google</td>\n",
       "    </tr>\n",
       "  </tbody>\n",
       "</table>\n",
       "<p>2840 rows × 9 columns</p>\n",
       "</div>"
      ],
      "text/plain": [
       "       _c0        Date         High          Low         Open        Close  \\\n",
       "0      683  2020-01-02   209.789993   206.270004   206.750000   209.779999   \n",
       "1      684  2020-01-03   210.399994   206.949997   207.210007   208.669998   \n",
       "2      685  2020-01-06   212.779999   206.520004   206.699997   212.600006   \n",
       "3      686  2020-01-07   214.580002   211.750000   212.820007   213.059998   \n",
       "4      687  2020-01-08   216.240005   212.610001   213.000000   215.220001   \n",
       "...    ...         ...          ...          ...          ...          ...   \n",
       "2835  1246  2022-03-28  2840.050049  2796.229980  2818.010010  2829.110107   \n",
       "2836  1247  2022-03-29  2875.870117  2840.770020  2852.949951  2850.110107   \n",
       "2837  1248  2022-03-30  2854.409912  2832.000000  2849.199951  2838.770020   \n",
       "2838  1249  2022-03-31  2842.159912  2780.489990  2841.060059  2781.350098   \n",
       "2839  1250  2022-04-01  2809.419922  2766.149902  2790.000000  2803.010010   \n",
       "\n",
       "          Volume    Adj Close      Name  \n",
       "0     12077100.0   209.779999  Facebook  \n",
       "1     11188400.0   208.669998  Facebook  \n",
       "2     17058900.0   212.600006  Facebook  \n",
       "3     14912400.0   213.059998  Facebook  \n",
       "4     13475000.0   215.220001  Facebook  \n",
       "...          ...          ...       ...  \n",
       "2835   1752500.0  2829.110107    Google  \n",
       "2836   1715900.0  2850.110107    Google  \n",
       "2837    994200.0  2838.770020    Google  \n",
       "2838   1876200.0  2781.350098    Google  \n",
       "2839   1296700.0  2803.010010    Google  \n",
       "\n",
       "[2840 rows x 9 columns]"
      ]
     },
     "execution_count": 3,
     "metadata": {},
     "output_type": "execute_result"
    }
   ],
   "source": [
    "df = spark.table('FAANG_stocks')\n",
    "df.toPandas()"
   ]
  },
  {
   "cell_type": "code",
   "execution_count": 4,
   "id": "d932c9cd",
   "metadata": {},
   "outputs": [
    {
     "data": {
      "text/plain": [
       "[('_c0', 'int'),\n",
       " ('Date', 'string'),\n",
       " ('High', 'double'),\n",
       " ('Low', 'double'),\n",
       " ('Open', 'double'),\n",
       " ('Close', 'double'),\n",
       " ('Volume', 'double'),\n",
       " ('Adj Close', 'double'),\n",
       " ('Name', 'string')]"
      ]
     },
     "execution_count": 4,
     "metadata": {},
     "output_type": "execute_result"
    }
   ],
   "source": [
    "df.dtypes"
   ]
  },
  {
   "cell_type": "code",
   "execution_count": 5,
   "id": "8224dff3",
   "metadata": {},
   "outputs": [],
   "source": [
    "df = df\\\n",
    ".withColumn('date', F.col('Date').cast('timestamp'))\\\n",
    ".withColumn('high_price',  F.round(F.col('High'),2))\\\n",
    ".withColumn('low_price', F.round(F.col('Low'),2))\\\n",
    ".withColumn('open_price', F.round(F.col('Open'),2))\\\n",
    ".withColumn('close_price', F.round(F.col('Close'),2))\\\n",
    ".withColumn('stock_name', F.col('Name'))"
   ]
  },
  {
   "cell_type": "code",
   "execution_count": 7,
   "id": "593de9d8",
   "metadata": {},
   "outputs": [
    {
     "name": "stdout",
     "output_type": "stream",
     "text": [
      "+----------+\n",
      "|stock_name|\n",
      "+----------+\n",
      "|    Google|\n",
      "|     Apple|\n",
      "|   Netflix|\n",
      "|    Amazon|\n",
      "|  Facebook|\n",
      "+----------+\n",
      "\n"
     ]
    }
   ],
   "source": [
    "df.select('stock_name').distinct().show()"
   ]
  },
  {
   "cell_type": "code",
   "execution_count": 8,
   "id": "2e88e6e5",
   "metadata": {},
   "outputs": [],
   "source": [
    "df = df\\\n",
    ".withColumn('average_price', F.round(((F.col('high_price') + F.col('low_price') + F.col('open_price') + F.col('close_price'))\n",
    "                              / 4),2).cast('double'))"
   ]
  },
  {
   "cell_type": "code",
   "execution_count": 11,
   "id": "f8ac6749",
   "metadata": {},
   "outputs": [
    {
     "data": {
      "text/html": [
       "<div>\n",
       "<style scoped>\n",
       "    .dataframe tbody tr th:only-of-type {\n",
       "        vertical-align: middle;\n",
       "    }\n",
       "\n",
       "    .dataframe tbody tr th {\n",
       "        vertical-align: top;\n",
       "    }\n",
       "\n",
       "    .dataframe thead th {\n",
       "        text-align: right;\n",
       "    }\n",
       "</style>\n",
       "<table border=\"1\" class=\"dataframe\">\n",
       "  <thead>\n",
       "    <tr style=\"text-align: right;\">\n",
       "      <th></th>\n",
       "      <th>stock_name</th>\n",
       "      <th>high_price</th>\n",
       "      <th>low_price</th>\n",
       "      <th>open_price</th>\n",
       "      <th>close_price</th>\n",
       "      <th>average_price</th>\n",
       "      <th>date</th>\n",
       "    </tr>\n",
       "  </thead>\n",
       "  <tbody>\n",
       "    <tr>\n",
       "      <th>0</th>\n",
       "      <td>Facebook</td>\n",
       "      <td>209.79</td>\n",
       "      <td>206.27</td>\n",
       "      <td>206.75</td>\n",
       "      <td>209.78</td>\n",
       "      <td>208.15</td>\n",
       "      <td>2020-01-02</td>\n",
       "    </tr>\n",
       "    <tr>\n",
       "      <th>1</th>\n",
       "      <td>Facebook</td>\n",
       "      <td>210.40</td>\n",
       "      <td>206.95</td>\n",
       "      <td>207.21</td>\n",
       "      <td>208.67</td>\n",
       "      <td>208.31</td>\n",
       "      <td>2020-01-03</td>\n",
       "    </tr>\n",
       "    <tr>\n",
       "      <th>2</th>\n",
       "      <td>Facebook</td>\n",
       "      <td>212.78</td>\n",
       "      <td>206.52</td>\n",
       "      <td>206.70</td>\n",
       "      <td>212.60</td>\n",
       "      <td>209.65</td>\n",
       "      <td>2020-01-06</td>\n",
       "    </tr>\n",
       "    <tr>\n",
       "      <th>3</th>\n",
       "      <td>Facebook</td>\n",
       "      <td>214.58</td>\n",
       "      <td>211.75</td>\n",
       "      <td>212.82</td>\n",
       "      <td>213.06</td>\n",
       "      <td>213.05</td>\n",
       "      <td>2020-01-07</td>\n",
       "    </tr>\n",
       "    <tr>\n",
       "      <th>4</th>\n",
       "      <td>Facebook</td>\n",
       "      <td>216.24</td>\n",
       "      <td>212.61</td>\n",
       "      <td>213.00</td>\n",
       "      <td>215.22</td>\n",
       "      <td>214.27</td>\n",
       "      <td>2020-01-08</td>\n",
       "    </tr>\n",
       "    <tr>\n",
       "      <th>...</th>\n",
       "      <td>...</td>\n",
       "      <td>...</td>\n",
       "      <td>...</td>\n",
       "      <td>...</td>\n",
       "      <td>...</td>\n",
       "      <td>...</td>\n",
       "      <td>...</td>\n",
       "    </tr>\n",
       "    <tr>\n",
       "      <th>2835</th>\n",
       "      <td>Google</td>\n",
       "      <td>2840.05</td>\n",
       "      <td>2796.23</td>\n",
       "      <td>2818.01</td>\n",
       "      <td>2829.11</td>\n",
       "      <td>2820.85</td>\n",
       "      <td>2022-03-28</td>\n",
       "    </tr>\n",
       "    <tr>\n",
       "      <th>2836</th>\n",
       "      <td>Google</td>\n",
       "      <td>2875.87</td>\n",
       "      <td>2840.77</td>\n",
       "      <td>2852.95</td>\n",
       "      <td>2850.11</td>\n",
       "      <td>2854.93</td>\n",
       "      <td>2022-03-29</td>\n",
       "    </tr>\n",
       "    <tr>\n",
       "      <th>2837</th>\n",
       "      <td>Google</td>\n",
       "      <td>2854.41</td>\n",
       "      <td>2832.00</td>\n",
       "      <td>2849.20</td>\n",
       "      <td>2838.77</td>\n",
       "      <td>2843.60</td>\n",
       "      <td>2022-03-30</td>\n",
       "    </tr>\n",
       "    <tr>\n",
       "      <th>2838</th>\n",
       "      <td>Google</td>\n",
       "      <td>2842.16</td>\n",
       "      <td>2780.49</td>\n",
       "      <td>2841.06</td>\n",
       "      <td>2781.35</td>\n",
       "      <td>2811.27</td>\n",
       "      <td>2022-03-31</td>\n",
       "    </tr>\n",
       "    <tr>\n",
       "      <th>2839</th>\n",
       "      <td>Google</td>\n",
       "      <td>2809.42</td>\n",
       "      <td>2766.15</td>\n",
       "      <td>2790.00</td>\n",
       "      <td>2803.01</td>\n",
       "      <td>2792.15</td>\n",
       "      <td>2022-04-01</td>\n",
       "    </tr>\n",
       "  </tbody>\n",
       "</table>\n",
       "<p>2840 rows × 7 columns</p>\n",
       "</div>"
      ],
      "text/plain": [
       "     stock_name  high_price  low_price  open_price  close_price  \\\n",
       "0      Facebook      209.79     206.27      206.75       209.78   \n",
       "1      Facebook      210.40     206.95      207.21       208.67   \n",
       "2      Facebook      212.78     206.52      206.70       212.60   \n",
       "3      Facebook      214.58     211.75      212.82       213.06   \n",
       "4      Facebook      216.24     212.61      213.00       215.22   \n",
       "...         ...         ...        ...         ...          ...   \n",
       "2835     Google     2840.05    2796.23     2818.01      2829.11   \n",
       "2836     Google     2875.87    2840.77     2852.95      2850.11   \n",
       "2837     Google     2854.41    2832.00     2849.20      2838.77   \n",
       "2838     Google     2842.16    2780.49     2841.06      2781.35   \n",
       "2839     Google     2809.42    2766.15     2790.00      2803.01   \n",
       "\n",
       "      average_price       date  \n",
       "0            208.15 2020-01-02  \n",
       "1            208.31 2020-01-03  \n",
       "2            209.65 2020-01-06  \n",
       "3            213.05 2020-01-07  \n",
       "4            214.27 2020-01-08  \n",
       "...             ...        ...  \n",
       "2835        2820.85 2022-03-28  \n",
       "2836        2854.93 2022-03-29  \n",
       "2837        2843.60 2022-03-30  \n",
       "2838        2811.27 2022-03-31  \n",
       "2839        2792.15 2022-04-01  \n",
       "\n",
       "[2840 rows x 7 columns]"
      ]
     },
     "execution_count": 11,
     "metadata": {},
     "output_type": "execute_result"
    }
   ],
   "source": [
    "df.select(\n",
    "    F.col('stock_name'), \n",
    "    F.col('high_price'), \n",
    "    F.col('low_price'), \n",
    "    F.col('open_price'), \n",
    "    F.col('close_price'),\n",
    "    F.col('average_price'),\n",
    "    F.col('date')\n",
    "        )\\\n",
    ".toPandas()"
   ]
  },
  {
   "cell_type": "code",
   "execution_count": 16,
   "id": "880c341d",
   "metadata": {},
   "outputs": [],
   "source": [
    "facebook_stocks = df\\\n",
    ".where(F.col('stock_name') == 'Facebook')\\\n",
    ".groupBy(F.date_format(F.col('date'), 'yyyy-MM').alias('date_yyyy_mm'))\\\n",
    ".agg(\n",
    "    F.avg(F.col('average_price')).alias('avg_stock_price')\n",
    "        )\\\n",
    ".orderBy(F.col('date_yyyy_mm'), ascending = True)"
   ]
  },
  {
   "cell_type": "code",
   "execution_count": 17,
   "id": "91c395ac",
   "metadata": {},
   "outputs": [
    {
     "data": {
      "text/html": [
       "<div>\n",
       "<style scoped>\n",
       "    .dataframe tbody tr th:only-of-type {\n",
       "        vertical-align: middle;\n",
       "    }\n",
       "\n",
       "    .dataframe tbody tr th {\n",
       "        vertical-align: top;\n",
       "    }\n",
       "\n",
       "    .dataframe thead th {\n",
       "        text-align: right;\n",
       "    }\n",
       "</style>\n",
       "<table border=\"1\" class=\"dataframe\">\n",
       "  <thead>\n",
       "    <tr style=\"text-align: right;\">\n",
       "      <th></th>\n",
       "      <th>date_yyyy_mm</th>\n",
       "      <th>avg_stock_price</th>\n",
       "    </tr>\n",
       "  </thead>\n",
       "  <tbody>\n",
       "    <tr>\n",
       "      <th>0</th>\n",
       "      <td>2020-01</td>\n",
       "      <td>216.358571</td>\n",
       "    </tr>\n",
       "    <tr>\n",
       "      <th>1</th>\n",
       "      <td>2020-02</td>\n",
       "      <td>207.297368</td>\n",
       "    </tr>\n",
       "    <tr>\n",
       "      <th>2</th>\n",
       "      <td>2020-03</td>\n",
       "      <td>165.399545</td>\n",
       "    </tr>\n",
       "    <tr>\n",
       "      <th>3</th>\n",
       "      <td>2020-04</td>\n",
       "      <td>176.876190</td>\n",
       "    </tr>\n",
       "    <tr>\n",
       "      <th>4</th>\n",
       "      <td>2020-05</td>\n",
       "      <td>216.258000</td>\n",
       "    </tr>\n",
       "    <tr>\n",
       "      <th>5</th>\n",
       "      <td>2020-06</td>\n",
       "      <td>231.610455</td>\n",
       "    </tr>\n",
       "    <tr>\n",
       "      <th>6</th>\n",
       "      <td>2020-07</td>\n",
       "      <td>238.830909</td>\n",
       "    </tr>\n",
       "    <tr>\n",
       "      <th>7</th>\n",
       "      <td>2020-08</td>\n",
       "      <td>268.383333</td>\n",
       "    </tr>\n",
       "    <tr>\n",
       "      <th>8</th>\n",
       "      <td>2020-09</td>\n",
       "      <td>267.155238</td>\n",
       "    </tr>\n",
       "    <tr>\n",
       "      <th>9</th>\n",
       "      <td>2020-10</td>\n",
       "      <td>270.234545</td>\n",
       "    </tr>\n",
       "  </tbody>\n",
       "</table>\n",
       "</div>"
      ],
      "text/plain": [
       "  date_yyyy_mm  avg_stock_price\n",
       "0      2020-01       216.358571\n",
       "1      2020-02       207.297368\n",
       "2      2020-03       165.399545\n",
       "3      2020-04       176.876190\n",
       "4      2020-05       216.258000\n",
       "5      2020-06       231.610455\n",
       "6      2020-07       238.830909\n",
       "7      2020-08       268.383333\n",
       "8      2020-09       267.155238\n",
       "9      2020-10       270.234545"
      ]
     },
     "execution_count": 17,
     "metadata": {},
     "output_type": "execute_result"
    }
   ],
   "source": [
    "facebook_stocks.limit(10).toPandas()"
   ]
  },
  {
   "cell_type": "code",
   "execution_count": 32,
   "id": "a09a8ed3",
   "metadata": {},
   "outputs": [
    {
     "data": {
      "text/plain": [
       "<AxesSubplot:xlabel='date_yyyy_mm'>"
      ]
     },
     "execution_count": 32,
     "metadata": {},
     "output_type": "execute_result"
    },
    {
     "data": {
      "image/png": "[encoded data removed]",
      "text/plain": [
       "<Figure size 720x360 with 1 Axes>"
      ]
     },
     "metadata": {
      "needs_background": "light"
     },
     "output_type": "display_data"
    }
   ],
   "source": [
    "df_facebook = facebook_stocks.toPandas()\n",
    "df_facebook.plot('date_yyyy_mm','avg_stock_price', figsize=(10,5), marker=\"o\")"
   ]
  },
  {
   "cell_type": "code",
   "execution_count": 33,
   "id": "81e243a4",
   "metadata": {},
   "outputs": [],
   "source": [
    "amazon_stocks = df\\\n",
    ".where(F.col('stock_name') == 'Amazon')\\\n",
    ".groupBy(F.date_format(F.col('date'), 'yyyy-MM').alias('date_yyyy_mm'))\\\n",
    ".agg(\n",
    "    F.avg(F.col('average_price')).alias('avg_stock_price')\n",
    "        )\\\n",
    ".orderBy(F.col('date_yyyy_mm'), ascending = True)"
   ]
  },
  {
   "cell_type": "code",
   "execution_count": 34,
   "id": "30128f71",
   "metadata": {},
   "outputs": [
    {
     "data": {
      "text/html": [
       "<div>\n",
       "<style scoped>\n",
       "    .dataframe tbody tr th:only-of-type {\n",
       "        vertical-align: middle;\n",
       "    }\n",
       "\n",
       "    .dataframe tbody tr th {\n",
       "        vertical-align: top;\n",
       "    }\n",
       "\n",
       "    .dataframe thead th {\n",
       "        text-align: right;\n",
       "    }\n",
       "</style>\n",
       "<table border=\"1\" class=\"dataframe\">\n",
       "  <thead>\n",
       "    <tr style=\"text-align: right;\">\n",
       "      <th></th>\n",
       "      <th>date_yyyy_mm</th>\n",
       "      <th>avg_stock_price</th>\n",
       "    </tr>\n",
       "  </thead>\n",
       "  <tbody>\n",
       "    <tr>\n",
       "      <th>0</th>\n",
       "      <td>2020-01</td>\n",
       "      <td>1884.660476</td>\n",
       "    </tr>\n",
       "    <tr>\n",
       "      <th>1</th>\n",
       "      <td>2020-02</td>\n",
       "      <td>2067.840526</td>\n",
       "    </tr>\n",
       "    <tr>\n",
       "      <th>2</th>\n",
       "      <td>2020-03</td>\n",
       "      <td>1867.752727</td>\n",
       "    </tr>\n",
       "    <tr>\n",
       "      <th>3</th>\n",
       "      <td>2020-04</td>\n",
       "      <td>2221.898095</td>\n",
       "    </tr>\n",
       "    <tr>\n",
       "      <th>4</th>\n",
       "      <td>2020-05</td>\n",
       "      <td>2392.178500</td>\n",
       "    </tr>\n",
       "    <tr>\n",
       "      <th>5</th>\n",
       "      <td>2020-06</td>\n",
       "      <td>2610.725000</td>\n",
       "    </tr>\n",
       "    <tr>\n",
       "      <th>6</th>\n",
       "      <td>2020-07</td>\n",
       "      <td>3051.782273</td>\n",
       "    </tr>\n",
       "    <tr>\n",
       "      <th>7</th>\n",
       "      <td>2020-08</td>\n",
       "      <td>3245.781429</td>\n",
       "    </tr>\n",
       "    <tr>\n",
       "      <th>8</th>\n",
       "      <td>2020-09</td>\n",
       "      <td>3168.060476</td>\n",
       "    </tr>\n",
       "    <tr>\n",
       "      <th>9</th>\n",
       "      <td>2020-10</td>\n",
       "      <td>3235.299545</td>\n",
       "    </tr>\n",
       "  </tbody>\n",
       "</table>\n",
       "</div>"
      ],
      "text/plain": [
       "  date_yyyy_mm  avg_stock_price\n",
       "0      2020-01      1884.660476\n",
       "1      2020-02      2067.840526\n",
       "2      2020-03      1867.752727\n",
       "3      2020-04      2221.898095\n",
       "4      2020-05      2392.178500\n",
       "5      2020-06      2610.725000\n",
       "6      2020-07      3051.782273\n",
       "7      2020-08      3245.781429\n",
       "8      2020-09      3168.060476\n",
       "9      2020-10      3235.299545"
      ]
     },
     "execution_count": 34,
     "metadata": {},
     "output_type": "execute_result"
    }
   ],
   "source": [
    "amazon_stocks.limit(10).toPandas()"
   ]
  },
  {
   "cell_type": "code",
   "execution_count": 35,
   "id": "4f917c39",
   "metadata": {},
   "outputs": [
    {
     "data": {
      "text/plain": [
       "<AxesSubplot:xlabel='date_yyyy_mm'>"
      ]
     },
     "execution_count": 35,
     "metadata": {},
     "output_type": "execute_result"
    },
    {
     "data": {
      "image/png": "[encoded data removed]",
      "text/plain": [
       "<Figure size 720x360 with 1 Axes>"
      ]
     },
     "metadata": {
      "needs_background": "light"
     },
     "output_type": "display_data"
    }
   ],
   "source": [
    "df_amazon = amazon_stocks.toPandas()\n",
    "df_amazon.plot('date_yyyy_mm','avg_stock_price', figsize=(10,5), marker=\"o\", c=\"y\")"
   ]
  },
  {
   "cell_type": "code",
   "execution_count": 36,
   "id": "ca3ecfd2",
   "metadata": {},
   "outputs": [],
   "source": [
    "netflix_stocks = df\\\n",
    ".where(F.col('stock_name') == 'Netflix')\\\n",
    ".groupBy(F.date_format(F.col('date'), 'yyyy-MM').alias('date_yyyy_mm'))\\\n",
    ".agg(\n",
    "    F.avg(F.col('average_price')).alias('avg_stock_price')\n",
    "        )\\\n",
    ".orderBy(F.col('date_yyyy_mm'), ascending = True)"
   ]
  },
  {
   "cell_type": "code",
   "execution_count": 37,
   "id": "175c3c8d",
   "metadata": {},
   "outputs": [
    {
     "data": {
      "text/html": [
       "<div>\n",
       "<style scoped>\n",
       "    .dataframe tbody tr th:only-of-type {\n",
       "        vertical-align: middle;\n",
       "    }\n",
       "\n",
       "    .dataframe tbody tr th {\n",
       "        vertical-align: top;\n",
       "    }\n",
       "\n",
       "    .dataframe thead th {\n",
       "        text-align: right;\n",
       "    }\n",
       "</style>\n",
       "<table border=\"1\" class=\"dataframe\">\n",
       "  <thead>\n",
       "    <tr style=\"text-align: right;\">\n",
       "      <th></th>\n",
       "      <th>date_yyyy_mm</th>\n",
       "      <th>avg_stock_price</th>\n",
       "    </tr>\n",
       "  </thead>\n",
       "  <tbody>\n",
       "    <tr>\n",
       "      <th>0</th>\n",
       "      <td>2020-01</td>\n",
       "      <td>338.381429</td>\n",
       "    </tr>\n",
       "    <tr>\n",
       "      <th>1</th>\n",
       "      <td>2020-02</td>\n",
       "      <td>373.302632</td>\n",
       "    </tr>\n",
       "    <tr>\n",
       "      <th>2</th>\n",
       "      <td>2020-03</td>\n",
       "      <td>350.359545</td>\n",
       "    </tr>\n",
       "    <tr>\n",
       "      <th>3</th>\n",
       "      <td>2020-04</td>\n",
       "      <td>403.431429</td>\n",
       "    </tr>\n",
       "    <tr>\n",
       "      <th>4</th>\n",
       "      <td>2020-05</td>\n",
       "      <td>433.481500</td>\n",
       "    </tr>\n",
       "    <tr>\n",
       "      <th>5</th>\n",
       "      <td>2020-06</td>\n",
       "      <td>438.038182</td>\n",
       "    </tr>\n",
       "    <tr>\n",
       "      <th>6</th>\n",
       "      <td>2020-07</td>\n",
       "      <td>498.342727</td>\n",
       "    </tr>\n",
       "    <tr>\n",
       "      <th>7</th>\n",
       "      <td>2020-08</td>\n",
       "      <td>497.329048</td>\n",
       "    </tr>\n",
       "    <tr>\n",
       "      <th>8</th>\n",
       "      <td>2020-09</td>\n",
       "      <td>495.666667</td>\n",
       "    </tr>\n",
       "    <tr>\n",
       "      <th>9</th>\n",
       "      <td>2020-10</td>\n",
       "      <td>516.543182</td>\n",
       "    </tr>\n",
       "  </tbody>\n",
       "</table>\n",
       "</div>"
      ],
      "text/plain": [
       "  date_yyyy_mm  avg_stock_price\n",
       "0      2020-01       338.381429\n",
       "1      2020-02       373.302632\n",
       "2      2020-03       350.359545\n",
       "3      2020-04       403.431429\n",
       "4      2020-05       433.481500\n",
       "5      2020-06       438.038182\n",
       "6      2020-07       498.342727\n",
       "7      2020-08       497.329048\n",
       "8      2020-09       495.666667\n",
       "9      2020-10       516.543182"
      ]
     },
     "execution_count": 37,
     "metadata": {},
     "output_type": "execute_result"
    }
   ],
   "source": [
    "netflix_stocks.limit(10).toPandas()"
   ]
  },
  {
   "cell_type": "code",
   "execution_count": 38,
   "id": "883da104",
   "metadata": {},
   "outputs": [
    {
     "data": {
      "text/plain": [
       "<AxesSubplot:xlabel='date_yyyy_mm'>"
      ]
     },
     "execution_count": 38,
     "metadata": {},
     "output_type": "execute_result"
    },
    {
     "data": {
      "image/png": "[encoded data removed]",
      "text/plain": [
       "<Figure size 720x360 with 1 Axes>"
      ]
     },
     "metadata": {
      "needs_background": "light"
     },
     "output_type": "display_data"
    }
   ],
   "source": [
    "df_netflix = netflix_stocks.toPandas()\n",
    "df_netflix.plot('date_yyyy_mm','avg_stock_price', figsize=(10,5), marker=\"o\", c=\"r\")"
   ]
  },
  {
   "cell_type": "code",
   "execution_count": 39,
   "id": "cd3a7f9f",
   "metadata": {},
   "outputs": [],
   "source": [
    "apple_stocks = df\\\n",
    ".where(F.col('stock_name') == 'Apple')\\\n",
    ".groupBy(F.date_format(F.col('date'), 'yyyy-MM').alias('date_yyyy_mm'))\\\n",
    ".agg(\n",
    "    F.avg(F.col('average_price')).alias('avg_stock_price')\n",
    "        )\\\n",
    ".orderBy(F.col('date_yyyy_mm'), ascending = True)"
   ]
  },
  {
   "cell_type": "code",
   "execution_count": 40,
   "id": "9c494a9d",
   "metadata": {},
   "outputs": [
    {
     "data": {
      "text/html": [
       "<div>\n",
       "<style scoped>\n",
       "    .dataframe tbody tr th:only-of-type {\n",
       "        vertical-align: middle;\n",
       "    }\n",
       "\n",
       "    .dataframe tbody tr th {\n",
       "        vertical-align: top;\n",
       "    }\n",
       "\n",
       "    .dataframe thead th {\n",
       "        text-align: right;\n",
       "    }\n",
       "</style>\n",
       "<table border=\"1\" class=\"dataframe\">\n",
       "  <thead>\n",
       "    <tr style=\"text-align: right;\">\n",
       "      <th></th>\n",
       "      <th>date_yyyy_mm</th>\n",
       "      <th>avg_stock_price</th>\n",
       "    </tr>\n",
       "  </thead>\n",
       "  <tbody>\n",
       "    <tr>\n",
       "      <th>0</th>\n",
       "      <td>2020-01</td>\n",
       "      <td>77.891429</td>\n",
       "    </tr>\n",
       "    <tr>\n",
       "      <th>1</th>\n",
       "      <td>2020-02</td>\n",
       "      <td>77.722632</td>\n",
       "    </tr>\n",
       "    <tr>\n",
       "      <th>2</th>\n",
       "      <td>2020-03</td>\n",
       "      <td>65.505455</td>\n",
       "    </tr>\n",
       "    <tr>\n",
       "      <th>3</th>\n",
       "      <td>2020-04</td>\n",
       "      <td>68.004286</td>\n",
       "    </tr>\n",
       "    <tr>\n",
       "      <th>4</th>\n",
       "      <td>2020-05</td>\n",
       "      <td>77.407500</td>\n",
       "    </tr>\n",
       "    <tr>\n",
       "      <th>5</th>\n",
       "      <td>2020-06</td>\n",
       "      <td>86.270909</td>\n",
       "    </tr>\n",
       "    <tr>\n",
       "      <th>6</th>\n",
       "      <td>2020-07</td>\n",
       "      <td>95.460000</td>\n",
       "    </tr>\n",
       "    <tr>\n",
       "      <th>7</th>\n",
       "      <td>2020-08</td>\n",
       "      <td>117.099524</td>\n",
       "    </tr>\n",
       "    <tr>\n",
       "      <th>8</th>\n",
       "      <td>2020-09</td>\n",
       "      <td>115.456667</td>\n",
       "    </tr>\n",
       "    <tr>\n",
       "      <th>9</th>\n",
       "      <td>2020-10</td>\n",
       "      <td>116.575000</td>\n",
       "    </tr>\n",
       "  </tbody>\n",
       "</table>\n",
       "</div>"
      ],
      "text/plain": [
       "  date_yyyy_mm  avg_stock_price\n",
       "0      2020-01        77.891429\n",
       "1      2020-02        77.722632\n",
       "2      2020-03        65.505455\n",
       "3      2020-04        68.004286\n",
       "4      2020-05        77.407500\n",
       "5      2020-06        86.270909\n",
       "6      2020-07        95.460000\n",
       "7      2020-08       117.099524\n",
       "8      2020-09       115.456667\n",
       "9      2020-10       116.575000"
      ]
     },
     "execution_count": 40,
     "metadata": {},
     "output_type": "execute_result"
    }
   ],
   "source": [
    "apple_stocks.limit(10).toPandas()"
   ]
  },
  {
   "cell_type": "code",
   "execution_count": 41,
   "id": "1733f134",
   "metadata": {},
   "outputs": [
    {
     "data": {
      "text/plain": [
       "<AxesSubplot:xlabel='date_yyyy_mm'>"
      ]
     },
     "execution_count": 41,
     "metadata": {},
     "output_type": "execute_result"
    },
    {
     "data": {
      "image/png": "[encoded data removed]",
      "text/plain": [
       "<Figure size 720x360 with 1 Axes>"
      ]
     },
     "metadata": {
      "needs_background": "light"
     },
     "output_type": "display_data"
    }
   ],
   "source": [
    "df_apple = apple_stocks.toPandas()\n",
    "df_apple.plot('date_yyyy_mm','avg_stock_price', figsize=(10,5), marker=\"o\", c=\"c\")"
   ]
  },
  {
   "cell_type": "code",
   "execution_count": 42,
   "id": "4d7e0aa7",
   "metadata": {},
   "outputs": [],
   "source": [
    "google_stocks = df\\\n",
    ".where(F.col('stock_name') == 'Google')\\\n",
    ".groupBy(F.date_format(F.col('date'), 'yyyy-MM').alias('date_yyyy_mm'))\\\n",
    ".agg(\n",
    "    F.avg(F.col('average_price')).alias('avg_stock_price')\n",
    "        )\\\n",
    ".orderBy(F.col('date_yyyy_mm'), ascending = True)"
   ]
  },
  {
   "cell_type": "code",
   "execution_count": 43,
   "id": "dd347224",
   "metadata": {},
   "outputs": [
    {
     "data": {
      "text/html": [
       "<div>\n",
       "<style scoped>\n",
       "    .dataframe tbody tr th:only-of-type {\n",
       "        vertical-align: middle;\n",
       "    }\n",
       "\n",
       "    .dataframe tbody tr th {\n",
       "        vertical-align: top;\n",
       "    }\n",
       "\n",
       "    .dataframe thead th {\n",
       "        text-align: right;\n",
       "    }\n",
       "</style>\n",
       "<table border=\"1\" class=\"dataframe\">\n",
       "  <thead>\n",
       "    <tr style=\"text-align: right;\">\n",
       "      <th></th>\n",
       "      <th>date_yyyy_mm</th>\n",
       "      <th>avg_stock_price</th>\n",
       "    </tr>\n",
       "  </thead>\n",
       "  <tbody>\n",
       "    <tr>\n",
       "      <th>0</th>\n",
       "      <td>2020-01</td>\n",
       "      <td>1434.350952</td>\n",
       "    </tr>\n",
       "    <tr>\n",
       "      <th>1</th>\n",
       "      <td>2020-02</td>\n",
       "      <td>1462.422632</td>\n",
       "    </tr>\n",
       "    <tr>\n",
       "      <th>2</th>\n",
       "      <td>2020-03</td>\n",
       "      <td>1181.924091</td>\n",
       "    </tr>\n",
       "    <tr>\n",
       "      <th>3</th>\n",
       "      <td>2020-04</td>\n",
       "      <td>1230.370952</td>\n",
       "    </tr>\n",
       "    <tr>\n",
       "      <th>4</th>\n",
       "      <td>2020-05</td>\n",
       "      <td>1379.725500</td>\n",
       "    </tr>\n",
       "    <tr>\n",
       "      <th>5</th>\n",
       "      <td>2020-06</td>\n",
       "      <td>1431.068636</td>\n",
       "    </tr>\n",
       "    <tr>\n",
       "      <th>6</th>\n",
       "      <td>2020-07</td>\n",
       "      <td>1512.424091</td>\n",
       "    </tr>\n",
       "    <tr>\n",
       "      <th>7</th>\n",
       "      <td>2020-08</td>\n",
       "      <td>1542.898571</td>\n",
       "    </tr>\n",
       "    <tr>\n",
       "      <th>8</th>\n",
       "      <td>2020-09</td>\n",
       "      <td>1514.718095</td>\n",
       "    </tr>\n",
       "    <tr>\n",
       "      <th>9</th>\n",
       "      <td>2020-10</td>\n",
       "      <td>1542.478636</td>\n",
       "    </tr>\n",
       "  </tbody>\n",
       "</table>\n",
       "</div>"
      ],
      "text/plain": [
       "  date_yyyy_mm  avg_stock_price\n",
       "0      2020-01      1434.350952\n",
       "1      2020-02      1462.422632\n",
       "2      2020-03      1181.924091\n",
       "3      2020-04      1230.370952\n",
       "4      2020-05      1379.725500\n",
       "5      2020-06      1431.068636\n",
       "6      2020-07      1512.424091\n",
       "7      2020-08      1542.898571\n",
       "8      2020-09      1514.718095\n",
       "9      2020-10      1542.478636"
      ]
     },
     "execution_count": 43,
     "metadata": {},
     "output_type": "execute_result"
    }
   ],
   "source": [
    "google_stocks.limit(10).toPandas()"
   ]
  },
  {
   "cell_type": "code",
   "execution_count": 44,
   "id": "3afd3b02",
   "metadata": {},
   "outputs": [
    {
     "data": {
      "text/plain": [
       "<AxesSubplot:xlabel='date_yyyy_mm'>"
      ]
     },
     "execution_count": 44,
     "metadata": {},
     "output_type": "execute_result"
    },
    {
     "data": {
      "image/png": "[encoded data removed]",
      "text/plain": [
       "<Figure size 720x360 with 1 Axes>"
      ]
     },
     "metadata": {
      "needs_background": "light"
     },
     "output_type": "display_data"
    }
   ],
   "source": [
    "df_google = google_stocks.toPandas()\n",
    "df_google.plot('date_yyyy_mm','avg_stock_price', figsize=(10,5), marker=\"o\", c=\"m\")"
   ]
  },
  {
   "cell_type": "code",
   "execution_count": null,
   "id": "e5c171b1",
   "metadata": {},
   "outputs": [],
   "source": []
  }
 ],
 "metadata": {
  "kernelspec": {
   "display_name": "Python 3 (ipykernel)",
   "language": "python",
   "name": "python3"
  },
  "language_info": {
   "codemirror_mode": {
    "name": "ipython",
    "version": 3
   },
   "file_extension": ".py",
   "mimetype": "text/x-python",
   "name": "python",
   "nbconvert_exporter": "python",
   "pygments_lexer": "ipython3",
   "version": "3.9.10"
  }
 },
 "nbformat": 4,
 "nbformat_minor": 5
}
