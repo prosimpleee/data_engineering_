{
 "cells": [
  {
   "cell_type": "code",
   "execution_count": 1,
   "id": "b4015722",
   "metadata": {},
   "outputs": [
    {
     "name": "stderr",
     "output_type": "stream",
     "text": [
      "22/03/22 20:49:57 WARN Utils: Your hostname, LAPTOP-V8EALT7T resolves to a loopback address: 127.0.1.1; using 172.20.10.2 instead (on interface wifi0)\n",
      "22/03/22 20:49:57 WARN Utils: Set SPARK_LOCAL_IP if you need to bind to another address\n",
      "WARNING: An illegal reflective access operation has occurred\n",
      "WARNING: Illegal reflective access by org.apache.spark.unsafe.Platform (file:/home/dmitry/.local/lib/python3.8/site-packages/pyspark/jars/spark-unsafe_2.12-3.2.1.jar) to constructor java.nio.DirectByteBuffer(long,int)\n",
      "WARNING: Please consider reporting this to the maintainers of org.apache.spark.unsafe.Platform\n",
      "WARNING: Use --illegal-access=warn to enable warnings of further illegal reflective access operations\n",
      "WARNING: All illegal access operations will be denied in a future release\n",
      "Using Spark's default log4j profile: org/apache/spark/log4j-defaults.properties\n",
      "Setting default log level to \"WARN\".\n",
      "To adjust logging level use sc.setLogLevel(newLevel). For SparkR, use setLogLevel(newLevel).\n",
      "22/03/22 20:49:58 WARN NativeCodeLoader: Unable to load native-hadoop library for your platform... using builtin-java classes where applicable\n"
     ]
    }
   ],
   "source": [
    "from pyspark.sql import SparkSession\n",
    "import pyspark.sql.functions as F\n",
    "from pyspark.sql.functions import *\n",
    "import datetime\n",
    "spark = SparkSession.builder.getOrCreate()"
   ]
  },
  {
   "cell_type": "code",
   "execution_count": 2,
   "id": "99273e97",
   "metadata": {},
   "outputs": [
    {
     "name": "stderr",
     "output_type": "stream",
     "text": [
      "                                                                                \r"
     ]
    }
   ],
   "source": [
    "spark \\\n",
    "        .read \\\n",
    "        .option('header', True) \\\n",
    "        .option('inferSchema', 'true')\\ # get types\n",
    "        .csv(f'/home/dmitry/Business Sales Transaction.csv') \\\n",
    "        .createOrReplaceTempView('business_sales')"
   ]
  },
  {
   "cell_type": "code",
   "execution_count": 29,
   "id": "4372dd4a",
   "metadata": {},
   "outputs": [],
   "source": [
    "# Tasks:\n",
    "# 1. How much money each customer spent per month? \n",
    "# 2. How many different items of goods he bought?\n",
    "# 3. What goods he bought most often?"
   ]
  },
  {
   "cell_type": "code",
   "execution_count": 4,
   "id": "b745df10",
   "metadata": {},
   "outputs": [
    {
     "name": "stdout",
     "output_type": "stream",
     "text": [
      "+-------------+----------+---------+--------------------+-----+--------+----------+--------------+\n",
      "|TransactionNo|      Date|ProductNo|         ProductName|Price|Quantity|CustomerNo|       Country|\n",
      "+-------------+----------+---------+--------------------+-----+--------+----------+--------------+\n",
      "|       536365|2018-12-01|   85123A|Cream Hanging Hea...| 1.88|       6|     17850|United Kingdom|\n",
      "|       536365|2018-12-01|    71053|White Moroccan Me...| 2.01|       6|     17850|United Kingdom|\n",
      "|       536365|2018-12-01|   84406B|Cream Cupid Heart...| 1.91|       8|     17850|United Kingdom|\n",
      "|       536365|2018-12-01|   84029G|Knitted Union Fla...| 2.01|       6|     17850|United Kingdom|\n",
      "|       536365|2018-12-01|   84029E|Red Woolly Hottie...| 2.01|       6|     17850|United Kingdom|\n",
      "|       536365|2018-12-01|    22752|Set 7 Babushka Ne...| 2.65|       2|     17850|United Kingdom|\n",
      "|       536365|2018-12-01|    21730|Glass Star Froste...| 2.14|       6|     17850|United Kingdom|\n",
      "|       536366|2018-12-01|    22633|Hand Warmer Union...| 1.78|       6|     17850|United Kingdom|\n",
      "|       536366|2018-12-01|    22632|Hand Warmer Red R...| 1.78|       6|     17850|United Kingdom|\n",
      "|       536367|2018-12-01|    84879|Assorted Colour B...| 1.75|      32|     13047|United Kingdom|\n",
      "+-------------+----------+---------+--------------------+-----+--------+----------+--------------+\n",
      "only showing top 10 rows\n",
      "\n"
     ]
    }
   ],
   "source": [
    "# create a df\n",
    "df = spark.table('business_sales')\n",
    "df.show(10)"
   ]
  },
  {
   "cell_type": "code",
   "execution_count": 5,
   "id": "7c8a8962",
   "metadata": {},
   "outputs": [],
   "source": [
    "# rename columns\n",
    "df = df\\\n",
    ".withColumnRenamed('TransactionNo', 'transaction_id')\\\n",
    ".withColumnRenamed('Date', 'date')\\\n",
    ".withColumnRenamed('ProductNo', 'product_number')\\\n",
    ".withColumnRenamed('ProductName', 'product_name')\\\n",
    ".withColumnRenamed('Price', 'product_price')\\\n",
    ".withColumnRenamed('Quantity', 'quantity')\\\n",
    ".withColumnRenamed('CustomerNo', 'customer_id')\\\n",
    ".withColumnRenamed('Country', 'country')"
   ]
  },
  {
   "cell_type": "code",
   "execution_count": 6,
   "id": "99062590",
   "metadata": {},
   "outputs": [
    {
     "data": {
      "text/plain": [
       "DataFrame[transaction_id: string, date: string, product_number: string, product_name: string, product_price: double, quantity: int, customer_id: string, country: string]"
      ]
     },
     "execution_count": 6,
     "metadata": {},
     "output_type": "execute_result"
    }
   ],
   "source": [
    "# drop null rows\n",
    "df.dropna()"
   ]
  },
  {
   "cell_type": "code",
   "execution_count": 30,
   "id": "69bb51a0",
   "metadata": {},
   "outputs": [
    {
     "name": "stderr",
     "output_type": "stream",
     "text": [
      "[Stage 83:===========================================>              (3 + 1) / 4]\r"
     ]
    },
    {
     "name": "stdout",
     "output_type": "stream",
     "text": [
      "+-----------+-----------+-------------+-------------------+\n",
      "|order_month|customer_id|product_price|products_cnt_unique|\n",
      "+-----------+-----------+-------------+-------------------+\n",
      "|          4|      12004|       227.14|                 56|\n",
      "|          5|      12006|         3.62|                  1|\n",
      "|          3|      12008|       838.54|                203|\n",
      "|         12|      12013|        10.23|                  1|\n",
      "|          6|      12024|        21.84|                  5|\n",
      "|          2|      12025|       176.26|                 46|\n",
      "|          1|      12026|      3032.83|                406|\n",
      "|          9|      12031|         36.2|                  7|\n",
      "|          3|      12042|       929.33|                223|\n",
      "|          7|      12043|       207.29|                 36|\n",
      "+-----------+-----------+-------------+-------------------+\n",
      "only showing top 10 rows\n",
      "\n"
     ]
    },
    {
     "name": "stderr",
     "output_type": "stream",
     "text": [
      "\r",
      "                                                                                \r"
     ]
    }
   ],
   "source": [
    "# total price and unique products count for each month and customer_id\n",
    "df_month_cusid = df\\\n",
    ".withColumn('order_month',F.month(F.col('date')))\\\n",
    ".where(F.col('quantity') > 0)\\\n",
    ".groupBy(F.col('order_month'),F.col('customer_id'))\\\n",
    ".agg(\n",
    "    F.sum(F.col('product_price') * F.col('quantity')).alias('total_price'),\n",
    "    F.countDistinct(F.col('product_name')).alias('products_cnt_unique'))\\\n",
    ".withColumn('product_price', F.col('total_price').cast('float'))\n",
    "\n",
    "#select values\n",
    "df_month_cusid = df_month_cusid\\\n",
    ".select(F.col('order_month'), F.col('customer_id'), F.col('product_price'), F.col('products_cnt_unique'))\\\n",
    ".orderBy('customer_id','order_month').show(10)"
   ]
  },
  {
   "cell_type": "code",
   "execution_count": 22,
   "id": "3a459d53",
   "metadata": {},
   "outputs": [
    {
     "name": "stderr",
     "output_type": "stream",
     "text": [
      "[Stage 49:==============>                                           (1 + 3) / 4]\r"
     ]
    },
    {
     "name": "stdout",
     "output_type": "stream",
     "text": [
      "+-----------+-----------+--------------------+-----------+\n",
      "|order_month|customer_id|        product_name|product_cnt|\n",
      "+-----------+-----------+--------------------+-----------+\n",
      "|          4|      12004|Set Of 4 Polkadot...|          1|\n",
      "|          4|      12004| Photo Frame Cornice|          1|\n",
      "|          4|      12004|Jumbo Bag Woodlan...|          1|\n",
      "|          4|      12004|French Blue Metal...|          1|\n",
      "|          4|      12004|Set/6 Red Spotty ...|          4|\n",
      "|          4|      12004|Citronella Candle...|          2|\n",
      "|          4|      12004|Skull Lunch Box W...|          2|\n",
      "|          4|      12004|Picnic Basket Wic...|          1|\n",
      "|          4|      12004|Jumbo Storage Bag...|          2|\n",
      "|          4|      12004|Tea Time Party Bu...|          4|\n",
      "|          4|      12004|Set Of Picture Fr...|          1|\n",
      "|          4|      12004|  Red Retrospot Bowl|          1|\n",
      "|          4|      12004|Jumbo Bag Pink Po...|          1|\n",
      "|          4|      12004|Gingerbread Man C...|          1|\n",
      "|          4|      12004|Open Closed Metal...|          1|\n",
      "|          4|      12004|Set Of 3 Butterfl...|          1|\n",
      "|          4|      12004|   Suki Shoulder Bag|          1|\n",
      "|          4|      12004|Wooden Picture Fr...|          2|\n",
      "|          4|      12004|Red Retrospot Cak...|          1|\n",
      "|          4|      12004|75 Green Petit Fo...|          2|\n",
      "|          4|      12004|White Spot Red Ce...|          8|\n",
      "|          4|      12004|Paper Chain Kit E...|          2|\n",
      "|          4|      12004| Wall Tidy Retrospot|          1|\n",
      "|          4|      12004|3 Hook Photo Shel...|          1|\n",
      "|          4|      12004|Set/6 Purple Butt...|          1|\n",
      "|          4|      12004|Set/3 Red Gingham...|          2|\n",
      "|          4|      12004|Jumbo Bag Red Ret...|          1|\n",
      "|          4|      12004|Red Toadstool Led...|          3|\n",
      "|          4|      12004|Victorian Sewing ...|          1|\n",
      "|          4|      12004|Childrens Garden ...|          1|\n",
      "|          4|      12004|\"Charlie+Lola\"\"Ex...|          1|\n",
      "|          4|      12004|\"Record Frame 7\"\"...|          2|\n",
      "|          4|      12004|Brown Pirate Trea...|          1|\n",
      "|          4|      12004|Strawberry Shoppe...|          1|\n",
      "|          4|      12004|Jumbo Bag Scandin...|          1|\n",
      "|          4|      12004|Pack Of 60 Pink P...|          5|\n",
      "|          4|      12004|Gumball Monochrom...|          2|\n",
      "|          4|      12004|Set Of 4 Polkadot...|          1|\n",
      "|          4|      12004|      Popcorn Holder|          2|\n",
      "|          4|      12004|Recycling Bag Ret...|          3|\n",
      "|          4|      12004|French Blue Metal...|          1|\n",
      "|          4|      12004|Toxic Area Door H...|          1|\n",
      "|          4|      12004|Set Of 6 T-Lights...|          1|\n",
      "|          4|      12004|Jumbo Bag Baroque...|          2|\n",
      "|          4|      12004|Red Retrospot Tis...|          1|\n",
      "|          4|      12004|Set/6 Red Spotty ...|          1|\n",
      "|          4|      12004|Set Of 6 Funky Be...|          2|\n",
      "|          4|      12004|Glitter Butterfly...|          1|\n",
      "|          4|      12004|Strawberry Cerami...|          4|\n",
      "|          4|      12004|Jumbo Shopper Vin...|          3|\n",
      "|          4|      12004|Set 3 Retrospot T...|          1|\n",
      "|          4|      12004|French Blue Metal...|          1|\n",
      "|          4|      12004|Multicolour Sprin...|          2|\n",
      "|          4|      12004|Paper Bunting Ret...|          1|\n",
      "|          4|      12004|Red Enchanted For...|         10|\n",
      "|          4|      12004|          Button Box|          1|\n",
      "|          5|      12006|Jumbo Storage Bag...|          2|\n",
      "|          3|      12008|Pink Heart Shape ...|          1|\n",
      "|          3|      12008|Silver Hanging T-...|          5|\n",
      "|          3|      12008|      Doormat Hearts|          1|\n",
      "|          3|      12008|Banquet Birthday ...|          1|\n",
      "|          3|      12008|Strawberry Cerami...|          1|\n",
      "|          3|      12008|Pink Strawberry H...|          1|\n",
      "|          3|      12008|Swirly Circular R...|          1|\n",
      "|          3|      12008|Mirror Mosaic Gob...|          2|\n",
      "|          3|      12008|Mirror Mosaic Hur...|          1|\n",
      "|          3|      12008|Small Heart Measu...|          1|\n",
      "|          3|      12008|Number Tile Vinta...|          1|\n",
      "|          3|      12008|Felt Egg Cosy Blu...|          1|\n",
      "|          3|      12008|Rose Folkart Hear...|          1|\n",
      "+-----------+-----------+--------------------+-----------+\n",
      "only showing top 70 rows\n",
      "\n"
     ]
    },
    {
     "name": "stderr",
     "output_type": "stream",
     "text": [
      "\r",
      "                                                                                \r"
     ]
    }
   ],
   "source": [
    "# cnt of products by month and customer_id\n",
    "find_product = df\\\n",
    ".where(F.col('quantity') > 0)\\\n",
    ".withColumn('order_month',F.month(F.col('date')))\\\n",
    ".groupBy(F.col('order_month'),F.col('customer_id'), F.col('product_name'))\\\n",
    ".agg(\n",
    "    F.sum(F.col('quantity')).alias('product_cnt'))\n",
    "\n",
    "# show df\n",
    "find_product\\\n",
    ".orderBy('customer_id','order_month').show(70)"
   ]
  },
  {
   "cell_type": "code",
   "execution_count": 23,
   "id": "a236efee",
   "metadata": {},
   "outputs": [
    {
     "name": "stderr",
     "output_type": "stream",
     "text": [
      "[Stage 59:==============================================>           (4 + 1) / 5]\r"
     ]
    },
    {
     "name": "stdout",
     "output_type": "stream",
     "text": [
      "+-----------+-----------+--------------------+\n",
      "|order_month|customer_id|popular_product_name|\n",
      "+-----------+-----------+--------------------+\n",
      "|          4|      12004|Red Enchanted For...|\n",
      "|          5|      12006|Jumbo Storage Bag...|\n",
      "|          3|      12008|Fluted Antique Ca...|\n",
      "|         12|      12013|Cabin Bag Vintage...|\n",
      "|          6|      12024|Vintage Caravan G...|\n",
      "|          2|      12025|Jumbo Bag Red Ret...|\n",
      "|          1|      12026|Metal Sign Cupcak...|\n",
      "|          9|      12031|      Jumbo Bag Owls|\n",
      "|          3|      12042|Black Mini Tape M...|\n",
      "|          7|      12043|Jumbo Shopper Vin...|\n",
      "|          7|      12050|Jumbo Shopper Vin...|\n",
      "|          9|      12057|Jumbo Storage Bag...|\n",
      "|         11|      12057|Spaceboy Mini Bac...|\n",
      "|         12|      12060|Pack 3 Boxes Chri...|\n",
      "|          5|      12063|Charlotte Bag App...|\n",
      "|         11|      12067|Girls Alphabet Ir...|\n",
      "|         12|      12071|Hot Water Bottle ...|\n",
      "|          2|      12078|Hanging Heart Jar...|\n",
      "|          6|      12080|       Party Bunting|\n",
      "|         12|      12081|Set Of 2 Tea Towe...|\n",
      "|          2|      12082|Assorted Monkey S...|\n",
      "|          6|      12087|Jumbo Bag Woodlan...|\n",
      "|          3|      12089|T-Light Glass Flu...|\n",
      "|          6|      12090|Disco Ball Christ...|\n",
      "|          6|      12093|Jumbo Storage Bag...|\n",
      "|          4|      12100|Charlotte Bag Suk...|\n",
      "|          1|      12115|Jumbo Bag Scandin...|\n",
      "|         12|      12115|      Popcorn Holder|\n",
      "|          6|      12116|Pink Drawer Knob ...|\n",
      "|          6|      12120|\"Record Frame 7\"\"...|\n",
      "|          1|      12128|Natural Slate Hea...|\n",
      "|         11|      12130|Classic Chrome Bi...|\n",
      "|          9|      12134|Pens Assorted Fun...|\n",
      "|          6|      12151|Green Vintage Spo...|\n",
      "|          1|      12154|Party Pizza Dish ...|\n",
      "|          8|      12160|Ivory Embroidered...|\n",
      "|          7|      12161|S/4 Pink Flower C...|\n",
      "|          3|      12165|      Popcorn Holder|\n",
      "|          3|      12167|Green Drawer Knob...|\n",
      "|          2|      12171|      Popcorn Holder|\n",
      "|         10|      12174|Recycled Pencil W...|\n",
      "|         10|      12185|Charlotte Bag Suk...|\n",
      "|          9|      12202|Hanging Heart Wit...|\n",
      "|          4|      12204|Jumbo Storage Bag...|\n",
      "|          4|      12205|Heart Ivory Trell...|\n",
      "|          2|      12214|Charlotte Bag Suk...|\n",
      "|          1|      12221|Charlotte Bag Suk...|\n",
      "|          8|      12221|Jumbo Bag Woodlan...|\n",
      "|          8|      12230|Charlotte Bag Suk...|\n",
      "|          6|      12231|Charlotte Bag Suk...|\n",
      "|          6|      12236|   Herb Marker Thyme|\n",
      "|         12|      12237|Regency Cakestand...|\n",
      "|          6|      12240|Victorian Glass H...|\n",
      "|          6|      12242|Paint Your Own Ca...|\n",
      "|         12|      12242|Card Motorbike Santa|\n",
      "|          7|      12245|World War 2 Glide...|\n",
      "|         12|      12245|Gingerbread Man C...|\n",
      "|         12|      12251|Magic Drawing Sla...|\n",
      "|         12|      12252|      Popcorn Holder|\n",
      "|         12|      12253|      Popcorn Holder|\n",
      "|          1|      12255|Heart Decoration ...|\n",
      "|         10|      12256|Storage Tin Vinta...|\n",
      "|         12|      12256|Charlotte Bag Suk...|\n",
      "|          4|      12278|Woodland Charlott...|\n",
      "|          9|      12286|   Polkadot Rain Hat|\n",
      "|          7|      12290|Jumbo Bag Pink Po...|\n",
      "|          3|      12293|Vintage Union Jac...|\n",
      "|          5|      12293|Set/20 Red Retros...|\n",
      "|         11|      12309|Bird House Hot Wa...|\n",
      "|          3|      12321|Set Of 16 Vintage...|\n",
      "+-----------+-----------+--------------------+\n",
      "only showing top 70 rows\n",
      "\n"
     ]
    },
    {
     "name": "stderr",
     "output_type": "stream",
     "text": [
      "\r",
      "                                                                                \r"
     ]
    }
   ],
   "source": [
    "# the most popular product by month and customer_id, over clause\n",
    "most_popular_product = find_product.orderBy(F.col('product_cnt'), ascending = False)\\\n",
    ".groupBy(F.col('order_month'), F.col('customer_id'))\\\n",
    ".agg(F.first(F.col('product_name')).alias('popular_product_name'))\n",
    "\n",
    "# popular_product_name by each month and customer_id\n",
    "most_popular_product\\\n",
    ".orderBy('customer_id','order_month').show(70)"
   ]
  },
  {
   "cell_type": "code",
   "execution_count": 28,
   "id": "047f56f7",
   "metadata": {},
   "outputs": [
    {
     "name": "stderr",
     "output_type": "stream",
     "text": [
      "[Stage 74:==============================================>           (4 + 1) / 5]\r"
     ]
    },
    {
     "name": "stdout",
     "output_type": "stream",
     "text": [
      "+-----------+-----------+-------------+-------------------+--------------------+\n",
      "|customer_id|order_month|product_price|products_cnt_unique|popular_product_name|\n",
      "+-----------+-----------+-------------+-------------------+--------------------+\n",
      "|      12004|          4|       227.14|                 56|Red Enchanted For...|\n",
      "|      12006|          5|         3.62|                  1|Jumbo Storage Bag...|\n",
      "|      12008|          3|       838.54|                203|Fluted Antique Ca...|\n",
      "|      12013|         12|        10.23|                  1|Cabin Bag Vintage...|\n",
      "|      12024|          6|        21.84|                  5|Vintage Caravan G...|\n",
      "|      12025|          2|       176.26|                 46|Jumbo Bag Red Ret...|\n",
      "|      12026|          1|      3032.83|                406|Metal Sign Cupcak...|\n",
      "|      12031|          9|         36.2|                  7|      Jumbo Bag Owls|\n",
      "|      12042|          3|       929.33|                223|Black Mini Tape M...|\n",
      "|      12043|          7|       207.29|                 36|Jumbo Shopper Vin...|\n",
      "|      12050|          7|        24.35|                 10|Jumbo Shopper Vin...|\n",
      "|      12057|          9|       789.89|                132|Jumbo Storage Bag...|\n",
      "|      12057|         11|         2.12|                  1|Spaceboy Mini Bac...|\n",
      "|      12060|         12|         5.37|                  1|Pack 3 Boxes Chri...|\n",
      "|      12063|          5|         6.64|                  3|Charlotte Bag App...|\n",
      "|      12067|         11|      2135.72|                485|Girls Alphabet Ir...|\n",
      "|      12071|         12|      3412.96|                643|Hot Water Bottle ...|\n",
      "|      12078|          2|       390.03|                125|Hanging Heart Jar...|\n",
      "|      12080|          6|      2240.21|                 93|       Party Bunting|\n",
      "|      12081|         12|         1.94|                  1|Set Of 2 Tea Towe...|\n",
      "|      12082|          2|         4.81|                  2|Assorted Monkey S...|\n",
      "|      12087|          6|       134.96|                 39|Jumbo Bag Woodlan...|\n",
      "|      12089|          3|       172.62|                  8|T-Light Glass Flu...|\n",
      "|      12090|          6|       107.61|                 22|Disco Ball Christ...|\n",
      "|      12093|          6|       327.92|                 55|Jumbo Storage Bag...|\n",
      "|      12100|          4|      1629.23|                 84|Charlotte Bag Suk...|\n",
      "|      12115|          1|       268.92|                 69|Jumbo Bag Scandin...|\n",
      "|      12115|         12|      3903.35|                643|      Popcorn Holder|\n",
      "|      12116|          6|       320.83|                 72|Pink Drawer Knob ...|\n",
      "|      12120|          6|        74.94|                 17|\"Record Frame 7\"\"...|\n",
      "+-----------+-----------+-------------+-------------------+--------------------+\n",
      "only showing top 30 rows\n",
      "\n"
     ]
    },
    {
     "name": "stderr",
     "output_type": "stream",
     "text": [
      "\r",
      "                                                                                \r"
     ]
    }
   ],
   "source": [
    "# join 2 df and create a view of data: 'updated_df'\n",
    "updated_df = df_month_cusid\\\n",
    ".join(most_popular_product, ['customer_id', 'order_month'], 'outer')\\\n",
    ".select(df_month_cusid.customer_id,\n",
    "        df_month_cusid.order_month, \n",
    "        df_month_cusid.product_price,\n",
    "        df_month_cusid.products_cnt_unique, \n",
    "        most_popular_product.popular_product_name)\n",
    "\n",
    "updated_df.orderBy('customer_id', 'order_month').show(30)"
   ]
  },
  {
   "cell_type": "code",
   "execution_count": null,
   "id": "e5fca4a6",
   "metadata": {},
   "outputs": [],
   "source": []
  }
 ],
 "metadata": {
  "kernelspec": {
   "display_name": "Python 3 (ipykernel)",
   "language": "python",
   "name": "python3"
  },
  "language_info": {
   "codemirror_mode": {
    "name": "ipython",
    "version": 3
   },
   "file_extension": ".py",
   "mimetype": "text/x-python",
   "name": "python",
   "nbconvert_exporter": "python",
   "pygments_lexer": "ipython3",
   "version": "3.8.10"
  }
 },
 "nbformat": 4,
 "nbformat_minor": 5
}
